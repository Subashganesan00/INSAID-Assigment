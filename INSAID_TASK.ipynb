{
  "nbformat": 4,
  "nbformat_minor": 0,
  "metadata": {
    "colab": {
      "provenance": [],
      "authorship_tag": "ABX9TyOf2gi0Qmm/xZsXvHSuYRdN",
      "include_colab_link": true
    },
    "kernelspec": {
      "name": "python3",
      "display_name": "Python 3"
    },
    "language_info": {
      "name": "python"
    }
  },
  "cells": [
    {
      "cell_type": "markdown",
      "metadata": {
        "id": "view-in-github",
        "colab_type": "text"
      },
      "source": [
        "<a href=\"https://colab.research.google.com/github/Subashganesan00/INSAID-Assigment/blob/main/INSAID_TASK.ipynb\" target=\"_parent\"><img src=\"https://colab.research.google.com/assets/colab-badge.svg\" alt=\"Open In Colab\"/></a>"
      ]
    },
    {
      "cell_type": "code",
      "source": [
        "import pandas as pd\n",
        "import numpy as np\n",
        "from sklearn.model_selection import train_test_split\n",
        "from sklearn.ensemble import RandomForestClassifier\n",
        "from sklearn.metrics import accuracy_score, precision_score, recall_score, f1_score\n",
        "import multiprocessing\n",
        "\n",
        "# Step 1: Data Cleaning\n",
        "data = pd.read_csv('fraud_dataset.csv')\n",
        "\n",
        "# Handle missing values\n",
        "data.dropna(inplace=True)\n",
        "\n",
        "# Handle outliers (assuming 'amount' is a numerical feature)\n",
        "Q1 = data['amount'].quantile(0.25)\n",
        "Q3 = data['amount'].quantile(0.75)\n",
        "IQR = Q3 - Q1\n",
        "data = data[(data['amount'] >= Q1 - 1.5 * IQR) & (data['amount'] <= Q3 + 1.5 * IQR)]\n",
        "\n",
        "# Handle multicollinearity (optional)\n",
        "# Apply appropriate techniques like correlation analysis or variance inflation factor (VIF) analysis to identify and remove highly correlated features.\n",
        "\n",
        "# Step 2: Fraud Detection Model\n",
        "selected_features = ['step', 'type', 'amount', 'oldbalanceOrg', 'newbalanceOrig', 'oldbalanceDest', 'newbalanceDest']\n",
        "target = 'isFraud'\n",
        "\n",
        "# Convert categorical variables to numerical using one-hot encoding\n",
        "data = pd.get_dummies(data[selected_features + [target]])\n",
        "\n",
        "# Split the data into train and test sets\n",
        "X_train, X_test, y_train, y_test = train_test_split(data.drop(target, axis=1), data[target], test_size=0.2, random_state=42)\n",
        "\n",
        "# Create and train the model\n",
        "n_estimators = multiprocessing.cpu_count()  # Use all available CPU cores\n",
        "model = RandomForestClassifier(n_estimators=n_estimators)\n",
        "model.fit(X_train, y_train)\n",
        "\n",
        "# Step 3: Variable Selection\n",
        "feature_importances = model.feature_importances_\n",
        "k = 5  # Number of top features to select\n",
        "top_features = np.argsort(feature_importances)[-k:]\n",
        "top_feature_names = data.drop(target, axis=1).columns[top_features]\n",
        "\n",
        "# Step 4: Model Performance\n",
        "y_pred = model.predict(X_test)\n",
        "accuracy = accuracy_score(y_test, y_pred)\n",
        "precision = precision_score(y_test, y_pred)\n",
        "recall = recall_score(y_test, y_pred)\n",
        "f1 = f1_score(y_test, y_pred)\n",
        "\n",
        "print(\"Model Performance:\")\n",
        "print(\"Accuracy:\", accuracy)\n",
        "print(\"Precision:\", precision)\n",
        "print(\"Recall:\", recall)\n",
        "print(\"F1-Score:\", f1)\n",
        "\n",
        "# Step 5: Key Factors for Fraud Prediction\n",
        "print(\"Key Factors for Fraud Prediction:\")\n",
        "for feature in top_feature_names:\n",
        "    print(feature)\n",
        "\n",
        "# Step 6: Interpretation of Factors\n",
        "# Perform additional analysis and interpretation of the selected features and their relationship with fraud detection\n",
        "# You can analyze the coefficients or feature importances, explore their relationships with the target variable, and draw insights.\n",
        "\n",
        "# Step 7: Prevention Strategies during Infrastructure Update\n",
        "# Implement the necessary prevention strategies as mentioned in the solution description\n",
        "# This could involve enhancing security measures, implementing real-time monitoring systems, improving authentication protocols, and conducting regular security audits.\n",
        "\n",
        "# Step 8: Evaluating the Effectiveness of Prevention Actions\n",
        "# Continuously monitor relevant metrics, such as the number of detected fraudulent transactions and false positive/negative rates, to assess the effectiveness of the prevention actions\n",
        "# Analyze the changes in these metrics over time and compare them with the baseline to determine if the implemented prevention strategies are effective.\n",
        "\n"
      ],
      "metadata": {
        "id": "CecmG8sUIhBv"
      },
      "execution_count": null,
      "outputs": []
    }
  ]
}